{
 "cells": [
  {
   "cell_type": "markdown",
   "id": "1a845359-f855-469f-86ea-51741ece2af0",
   "metadata": {},
   "source": [
    "# Twitter Sentiment Analyzer"
   ]
  },
  {
   "cell_type": "code",
   "execution_count": 1,
   "id": "ac6cc2e6-64e7-48ec-a240-575ac15814dd",
   "metadata": {},
   "outputs": [
    {
     "name": "stdout",
     "output_type": "stream",
     "text": [
      "Looking in indexes: https://download.pytorch.org/whl/cu124\n",
      "Requirement already satisfied: torch in c:\\users\\brian biju\\appdata\\local\\programs\\python\\python312\\lib\\site-packages (2.4.0+cu124)\n",
      "Requirement already satisfied: torchvision in c:\\users\\brian biju\\appdata\\local\\programs\\python\\python312\\lib\\site-packages (0.19.0+cu124)\n",
      "Requirement already satisfied: torchaudio in c:\\users\\brian biju\\appdata\\local\\programs\\python\\python312\\lib\\site-packages (2.4.0+cu124)\n",
      "Requirement already satisfied: filelock in c:\\users\\brian biju\\appdata\\local\\programs\\python\\python312\\lib\\site-packages (from torch) (3.15.4)\n",
      "Requirement already satisfied: typing-extensions>=4.8.0 in c:\\users\\brian biju\\appdata\\local\\programs\\python\\python312\\lib\\site-packages (from torch) (4.12.2)\n",
      "Requirement already satisfied: sympy in c:\\users\\brian biju\\appdata\\local\\programs\\python\\python312\\lib\\site-packages (from torch) (1.12)\n",
      "Requirement already satisfied: networkx in c:\\users\\brian biju\\appdata\\local\\programs\\python\\python312\\lib\\site-packages (from torch) (3.2.1)\n",
      "Requirement already satisfied: jinja2 in c:\\users\\brian biju\\appdata\\local\\programs\\python\\python312\\lib\\site-packages (from torch) (3.1.4)\n",
      "Requirement already satisfied: fsspec in c:\\users\\brian biju\\appdata\\local\\programs\\python\\python312\\lib\\site-packages (from torch) (2024.6.1)\n",
      "Requirement already satisfied: setuptools in c:\\users\\brian biju\\appdata\\local\\programs\\python\\python312\\lib\\site-packages (from torch) (70.2.0)\n",
      "Requirement already satisfied: numpy in c:\\users\\brian biju\\appdata\\local\\programs\\python\\python312\\lib\\site-packages (from torchvision) (1.26.4)\n",
      "Requirement already satisfied: pillow!=8.3.*,>=5.3.0 in c:\\users\\brian biju\\appdata\\local\\programs\\python\\python312\\lib\\site-packages (from torchvision) (10.3.0)\n",
      "Requirement already satisfied: MarkupSafe>=2.0 in c:\\users\\brian biju\\appdata\\local\\programs\\python\\python312\\lib\\site-packages (from jinja2->torch) (2.1.5)\n",
      "Requirement already satisfied: mpmath>=0.19 in c:\\users\\brian biju\\appdata\\local\\programs\\python\\python312\\lib\\site-packages (from sympy->torch) (1.3.0)\n",
      "Note: you may need to restart the kernel to use updated packages.\n"
     ]
    }
   ],
   "source": [
    "pip install torch torchvision torchaudio --index-url https://download.pytorch.org/whl/cu124"
   ]
  },
  {
   "cell_type": "code",
   "execution_count": 2,
   "id": "bb408083-14b4-41ba-9d98-f34e5384376a",
   "metadata": {},
   "outputs": [
    {
     "name": "stdout",
     "output_type": "stream",
     "text": [
      "Requirement already satisfied: transformers in c:\\users\\brian biju\\appdata\\local\\programs\\python\\python312\\lib\\site-packages (4.43.2)\n",
      "Requirement already satisfied: filelock in c:\\users\\brian biju\\appdata\\local\\programs\\python\\python312\\lib\\site-packages (from transformers) (3.15.4)\n",
      "Requirement already satisfied: huggingface-hub<1.0,>=0.23.2 in c:\\users\\brian biju\\appdata\\local\\programs\\python\\python312\\lib\\site-packages (from transformers) (0.23.5)\n",
      "Requirement already satisfied: numpy>=1.17 in c:\\users\\brian biju\\appdata\\local\\programs\\python\\python312\\lib\\site-packages (from transformers) (1.26.4)\n",
      "Requirement already satisfied: packaging>=20.0 in c:\\users\\brian biju\\appdata\\local\\programs\\python\\python312\\lib\\site-packages (from transformers) (24.0)\n",
      "Requirement already satisfied: pyyaml>=5.1 in c:\\users\\brian biju\\appdata\\local\\programs\\python\\python312\\lib\\site-packages (from transformers) (6.0.1)\n",
      "Requirement already satisfied: regex!=2019.12.17 in c:\\users\\brian biju\\appdata\\local\\programs\\python\\python312\\lib\\site-packages (from transformers) (2024.5.15)\n",
      "Requirement already satisfied: requests in c:\\users\\brian biju\\appdata\\local\\programs\\python\\python312\\lib\\site-packages (from transformers) (2.31.0)\n",
      "Requirement already satisfied: tokenizers<0.20,>=0.19 in c:\\users\\brian biju\\appdata\\local\\programs\\python\\python312\\lib\\site-packages (from transformers) (0.19.1)\n",
      "Requirement already satisfied: safetensors>=0.4.1 in c:\\users\\brian biju\\appdata\\local\\programs\\python\\python312\\lib\\site-packages (from transformers) (0.4.3)\n",
      "Requirement already satisfied: tqdm>=4.27 in c:\\users\\brian biju\\appdata\\local\\programs\\python\\python312\\lib\\site-packages (from transformers) (4.66.4)\n",
      "Requirement already satisfied: fsspec>=2023.5.0 in c:\\users\\brian biju\\appdata\\local\\programs\\python\\python312\\lib\\site-packages (from huggingface-hub<1.0,>=0.23.2->transformers) (2024.6.1)\n",
      "Requirement already satisfied: typing-extensions>=3.7.4.3 in c:\\users\\brian biju\\appdata\\local\\programs\\python\\python312\\lib\\site-packages (from huggingface-hub<1.0,>=0.23.2->transformers) (4.12.2)\n",
      "Requirement already satisfied: colorama in c:\\users\\brian biju\\appdata\\local\\programs\\python\\python312\\lib\\site-packages (from tqdm>=4.27->transformers) (0.4.6)\n",
      "Requirement already satisfied: charset-normalizer<4,>=2 in c:\\users\\brian biju\\appdata\\local\\programs\\python\\python312\\lib\\site-packages (from requests->transformers) (3.3.2)\n",
      "Requirement already satisfied: idna<4,>=2.5 in c:\\users\\brian biju\\appdata\\local\\programs\\python\\python312\\lib\\site-packages (from requests->transformers) (3.7)\n",
      "Requirement already satisfied: urllib3<3,>=1.21.1 in c:\\users\\brian biju\\appdata\\local\\programs\\python\\python312\\lib\\site-packages (from requests->transformers) (2.2.1)\n",
      "Requirement already satisfied: certifi>=2017.4.17 in c:\\users\\brian biju\\appdata\\local\\programs\\python\\python312\\lib\\site-packages (from requests->transformers) (2024.2.2)\n",
      "Note: you may need to restart the kernel to use updated packages.\n"
     ]
    }
   ],
   "source": [
    "pip install transformers"
   ]
  },
  {
   "cell_type": "markdown",
   "id": "245acb2f-6e63-44da-9351-8b49d053695d",
   "metadata": {},
   "source": [
    "## Importing Modules"
   ]
  },
  {
   "cell_type": "code",
   "execution_count": 3,
   "id": "b2c14893-ccb6-4be4-a920-87ec344976ab",
   "metadata": {},
   "outputs": [],
   "source": [
    "import customtkinter as ctk\n",
    "from transformers import AutoTokenizer, AutoModelForSequenceClassification\n",
    "import torch"
   ]
  },
  {
   "cell_type": "markdown",
   "id": "5b0af6df-54f3-40d4-9aed-1c8377144f2e",
   "metadata": {},
   "source": [
    "## Loading pre-trained Model"
   ]
  },
  {
   "cell_type": "code",
   "execution_count": 4,
   "id": "cea9eea0-da9c-4700-9bf4-a7a94fc79bf9",
   "metadata": {},
   "outputs": [],
   "source": [
    "tokenizer = AutoTokenizer.from_pretrained('nlptown/bert-base-multilingual-uncased-sentiment')\n",
    "model = AutoModelForSequenceClassification.from_pretrained('nlptown/bert-base-multilingual-uncased-sentiment') "
   ]
  },
  {
   "cell_type": "markdown",
   "id": "9fd6d5fa-af2e-46a6-b8c9-dec4ac0051a6",
   "metadata": {},
   "source": [
    "## GUI"
   ]
  },
  {
   "cell_type": "code",
   "execution_count": 5,
   "id": "90ae0d2b-656d-448a-b62c-772571eef371",
   "metadata": {},
   "outputs": [],
   "source": [
    "class SentimentAnalyzer(ctk.CTk):\n",
    "    def __init__(self):\n",
    "        super().__init__()\n",
    "        self.init_ui()\n",
    "\n",
    "    def init_ui(self):\n",
    "        self.title(\" Sentiment Analyzer\")\n",
    "        self.geometry(\"600x400\")\n",
    "        \n",
    "        # Create the title label\n",
    "        self.title_label = ctk.CTkLabel(self, text=\"Sentiment Analyzer\", font=(\"Arial\", 28, \"bold\"))\n",
    "        self.title_label.pack(pady=20)\n",
    "        # Create labels, entry box, and buttons\n",
    "        self.text_label = ctk.CTkLabel(self, text=\"Paste your Tweet/Review below:\", font=(\"Arial\", 16))\n",
    "        self.text_label.pack(pady=10)\n",
    "\n",
    "        self.text_entry = ctk.CTkTextbox(self, width=600, height=50, font=(\"Arial\", 14))\n",
    "        self.text_entry.pack(pady=10)\n",
    "\n",
    "        # Create a frame to hold the buttons\n",
    "        button_frame = ctk.CTkFrame(self)\n",
    "        button_frame.pack(pady=10)\n",
    "\n",
    "        self.analyze_button = ctk.CTkButton(button_frame, text=\"Analyze\", command=self.analyze_sentiment)\n",
    "        self.analyze_button.pack(side=\"left\", padx=10)\n",
    "\n",
    "        self.clear_button = ctk.CTkButton(button_frame, text=\"Clear\", command=self.clear_text)\n",
    "        self.clear_button.pack(side=\"right\", padx=10)\n",
    "\n",
    "        # Frame for sentiment score and probabilities\n",
    "        self.output_frame = ctk.CTkFrame(self)\n",
    "        self.output_frame.pack(pady=30)\n",
    "\n",
    "        self.sentiment_label = ctk.CTkLabel(self.output_frame, text=\"Sentiment Analysis\", font=(\"Arial\", 18,'bold'))\n",
    "        self.sentiment_label.pack(side=\"left\", padx=10, anchor='w')\n",
    "\n",
    "        self.probabilities_label = ctk.CTkLabel(self.output_frame, text=\"Sentiment Probabilities\", font=(\"Arial\", 18,'bold'))\n",
    "        self.probabilities_label.pack(side=\"right\", padx=10, anchor='e')\n",
    "        \n",
    "    def analyze_sentiment(self):\n",
    "        text = self.text_entry.get(\"1.0\", \"end-1c\")\n",
    "        if text:\n",
    "            # Tokenize and get model predictions\n",
    "            tokens = tokenizer.encode(text, return_tensors='pt')\n",
    "            with torch.no_grad():\n",
    "                result = model(tokens)\n",
    "            \n",
    "            # Extract logits and calculate probabilities\n",
    "            logits = result.logits\n",
    "            probabilities = torch.softmax(logits, dim=-1).squeeze().tolist()\n",
    "            sentiment_score = int(torch.argmax(logits)) + 1\n",
    "\n",
    "            # Map score to sentiment\n",
    "            sentiment_map = {\n",
    "                1: \"Very Negative\",\n",
    "                2: \"Negative\",\n",
    "                3: \"Neutral\",\n",
    "                4: \"Positive\",\n",
    "                5: \"Very Positive\"\n",
    "            }\n",
    "\n",
    "            sentiment_label = sentiment_map.get(sentiment_score, \"Unknown\")\n",
    "\n",
    "            # Format and display output\n",
    "            sentiment_text = f\"Sentiment Analysis\\n\\n Sentiment Score: {sentiment_score}\\nSentiment: {sentiment_label}\"\n",
    "            \n",
    "            # Map probabilities to sentiment labels\n",
    "            sentiment_labels = [\"Very Negative\", \"Negative\", \"Neutral\", \"Positive\", \"Very Positive\"]\n",
    "            label_probability_pairs = list(zip(sentiment_labels, probabilities))\n",
    "            sorted_pairs = sorted(label_probability_pairs, key=lambda x: x[1], reverse=True)\n",
    "            probabilities_text = \"\\n\".join(f\"{label:<20}: {prob:.2f}\" for label, prob in sorted_pairs)\n",
    "\n",
    "            self.sentiment_label.configure(text=sentiment_text)\n",
    "            self.probabilities_label.configure(text=f\"Probabilities: \\n\\n{probabilities_text}\")\n",
    "        else:\n",
    "            self.sentiment_label.configure(text=\"Please enter text for analysis.\")\n",
    "            self.probabilities_label.configure(text=\"\")\n",
    "\n",
    "    def clear_text(self):\n",
    "        self.text_entry.delete(\"1.0\", \"end\")\n",
    "        self.sentiment_label.configure(text=\"\")\n",
    "        self.probabilities_label.configure(text=\"\")"
   ]
  },
  {
   "cell_type": "code",
   "execution_count": null,
   "id": "ca6ccedf-459a-4ab0-a656-b7bc8911646f",
   "metadata": {},
   "outputs": [],
   "source": [
    "if __name__ == \"__main__\":\n",
    "    app = SentimentAnalyzer()\n",
    "    app.mainloop()"
   ]
  },
  {
   "cell_type": "code",
   "execution_count": null,
   "id": "aff08d91-2ec6-406f-9342-f30b52feb4e1",
   "metadata": {},
   "outputs": [],
   "source": []
  }
 ],
 "metadata": {
  "kernelspec": {
   "display_name": "Python 3 (ipykernel)",
   "language": "python",
   "name": "python3"
  },
  "language_info": {
   "codemirror_mode": {
    "name": "ipython",
    "version": 3
   },
   "file_extension": ".py",
   "mimetype": "text/x-python",
   "name": "python",
   "nbconvert_exporter": "python",
   "pygments_lexer": "ipython3",
   "version": "3.12.3"
  }
 },
 "nbformat": 4,
 "nbformat_minor": 5
}
